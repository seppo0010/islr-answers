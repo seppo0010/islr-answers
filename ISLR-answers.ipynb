{
 "cells": [
  {
   "cell_type": "markdown",
   "metadata": {},
   "source": [
    "# 2.4 Exercises\n",
    "## Conceptual\n",
    "1. For each of parts (a) through (d), indicate whether we would generally expect the performance of a flexible statistical learning method to be better or worse than an inflexible method. Justify your answer.\n",
    "  1. The sample size n is extremely large, and the number of predictors p is small.\n",
    "  2. The number of predictors p is extremely large, and the number of observations n is small.\n",
    "  3. The relationship between the predictors and response is highly non-linear.\n",
    "  4. The variance of the error terms, i.e. σ 2 = Var(\u0003), is extremely high."
   ]
  },
  {
   "cell_type": "markdown",
   "metadata": {},
   "source": [
    "1. Answers\n",
    "\n",
    "  1. A flexible model will allow us to take full advantage of our large sample size.\n",
    "    \n",
    "  1. The flexible model will cause overfitting due to our small sample size.\n",
    "\n",
    "  1. A flexible model will be necessary to find the nonlinear effect.\n",
    "  \n",
    "  1. A flexible model will cause us to fit too much of the noise in the problem."
   ]
  },
  {
   "cell_type": "markdown",
   "metadata": {},
   "source": [
    "2. Explain whether each scenario is a classification or regression problem, and indicate whether we are most interested in inference or prediction. Finally, provide n and p.\n",
    "  1. We collect a set of data on the top 500 firms in the US. For each firm we record profit, number of employees, industry and the CEO salary. We are interested in understanding which factors affect CEO salary.\n",
    "  1. We are considering launching a new product and wish to know whether it will be a success or a failure. We collect data on 20 similar products that were previously launched. For each product we have recorded whether it was a success or failure, price charged for the product, marketing budget, competition price, and ten other variables.\n",
    "  1. We are interested in predicting the % change in the USD/Euro exchange rate in relation to the weekly changes in the world stock markets. Hence we collect weekly data for all of 2012. For each week we record the % change in the USD/Euro, the % change in the US market, the % change in the British market, and the % change in the German market."
   ]
  },
  {
   "cell_type": "markdown",
   "metadata": {},
   "source": [
    "2. Answers\n",
    "\n",
    "  1. Regression. Inference. n=500 p=3\n",
    "  \n",
    "  1. Classification. Prediction. n=20 p=13\n",
    "  \n",
    "  1. Regression. Prediction. n=52 p=3"
   ]
  },
  {
   "cell_type": "markdown",
   "metadata": {},
   "source": [
    "4. You will now think of some real-life applications for statistical learning.\n",
    "\n",
    "  1. Describe three real-life applications in which classification might be useful. Describe the response, as well as the predictors. Is the goal of each application inference or prediction? Explain your answer.\n",
    "\n",
    "  1. Describe three real-life applications in which regression might be useful. Describe the response, as well as the predictors. Is the goal of each application inference or prediction? Explain your answer.\n",
    "\n",
    "  1. Describe three real-life applications in which cluster analysis might be useful."
   ]
  },
  {
   "cell_type": "markdown",
   "metadata": {},
   "source": [
    "4. Answers\n",
    "  1. \n",
    "    1. Taking a picture and classifying its content as cat or not cat. Predictors are the content of the image. It's a prediction application.\n",
    "    1. A company that sells online may wish to know if a purchase is fraud or not. Predictors may be previous user purchase history, credit card history, amount. It's prediction.\n",
    "    1. A bank may want to know which of their customers may want a loan. Predictors may be user balance, purchase history, income, age. It's prediction. They can also use inference to have better ad targeting.\n",
    "    \n",
    "  2. \n",
    "    1. Use a salary survey to understand which variables affect income more. Predictors may be age, experience, gender, position, degree. It's an inference application.\n",
    "    1. \n",
    "  \n",
    "  3. \n",
    "    1. A company may do customer clustering to find similar customers and recommend them products. Predictors may be products bought or added to wishlist, age, gender, location, income estimation, education. It's a prediction application.\n",
    "    1. "
   ]
  },
  {
   "cell_type": "markdown",
   "metadata": {},
   "source": [
    "5. What are the advantages and disadvantages of a very flexible (versus a less flexible) approach for regression or classification? Under what circumstances might a more flexible approach be preferred to a less flexible approach? When might a less flexible approach be preferred?"
   ]
  },
  {
   "cell_type": "markdown",
   "metadata": {},
   "source": [
    "5. Answer\n",
    "\n",
    "  A flexible approach can take advantage of a larger sample size, specially when the response is non-linear. It doesn't do so well with samples that are small, because it cannot find a proper pattern, or that have a high variance error as it will learn from the random error."
   ]
  },
  {
   "cell_type": "markdown",
   "metadata": {},
   "source": [
    "6. Describe the differences between a parametric and a non-parametric statistical learning approach. What are the advantages of a parametric approach to regression or classification (as opposed to a non-parametric approach)? What are its disadvantages?"
   ]
  },
  {
   "cell_type": "markdown",
   "metadata": {},
   "source": [
    "6. Answer\n",
    "\n",
    "  Non-parametric statistical learning approach make assumptions about the shape of the model, therefore are simpler but less flexible."
   ]
  },
  {
   "cell_type": "markdown",
   "metadata": {},
   "source": [
    "7. The table below provides a training data set containing six observations, three predictors, and one qualitative response variable.\n",
    "\n",
    "| Obs. | X 1 | X 2 | X 3 | Y |\n",
    "| ---- | --- | --- | --- | - |\n",
    "| 1 | 0 | 3 | 0 | Red |\n",
    "| 2 | 2 | 0 | 0 | Red |\n",
    "| 3 | 0 | 1 | 3 | Red |\n",
    "| 4 | 0 | 1 | 2 | Green |\n",
    "| 5 | -1| 0 | 1 | Green |\n",
    "| 6 | 1 | 1 | 1 | Red |\n",
    "\n",
    "  Suppose we wish to use this data set to make a prediction for Y when X 1 = X 2 = X 3 = 0 using K-nearest neighbors.\n",
    "  1. Compute the Euclidean distance between each observation and the test point, X 1 = X 2 = X 3 = 0.\n",
    "  2. What is our prediction with K = 1? Why?\n",
    "  3. What is our prediction with K = 3? Why?\n",
    "  4. If the Bayes decision boundary in this problem is highly non-linear, then would we expect the best value for K to be large or small? Why?"
   ]
  },
  {
   "cell_type": "code",
   "execution_count": 6,
   "metadata": {},
   "outputs": [
    {
     "data": {
      "text/html": [
       "<div>\n",
       "<style scoped>\n",
       "    .dataframe tbody tr th:only-of-type {\n",
       "        vertical-align: middle;\n",
       "    }\n",
       "\n",
       "    .dataframe tbody tr th {\n",
       "        vertical-align: top;\n",
       "    }\n",
       "\n",
       "    .dataframe thead th {\n",
       "        text-align: right;\n",
       "    }\n",
       "</style>\n",
       "<table border=\"1\" class=\"dataframe\">\n",
       "  <thead>\n",
       "    <tr style=\"text-align: right;\">\n",
       "      <th></th>\n",
       "      <th>0</th>\n",
       "      <th>1</th>\n",
       "      <th>2</th>\n",
       "    </tr>\n",
       "  </thead>\n",
       "  <tbody>\n",
       "    <tr>\n",
       "      <th>0</th>\n",
       "      <td>0</td>\n",
       "      <td>3</td>\n",
       "      <td>0</td>\n",
       "    </tr>\n",
       "    <tr>\n",
       "      <th>1</th>\n",
       "      <td>2</td>\n",
       "      <td>0</td>\n",
       "      <td>0</td>\n",
       "    </tr>\n",
       "    <tr>\n",
       "      <th>2</th>\n",
       "      <td>0</td>\n",
       "      <td>1</td>\n",
       "      <td>3</td>\n",
       "    </tr>\n",
       "    <tr>\n",
       "      <th>3</th>\n",
       "      <td>0</td>\n",
       "      <td>1</td>\n",
       "      <td>2</td>\n",
       "    </tr>\n",
       "    <tr>\n",
       "      <th>4</th>\n",
       "      <td>-1</td>\n",
       "      <td>0</td>\n",
       "      <td>1</td>\n",
       "    </tr>\n",
       "    <tr>\n",
       "      <th>5</th>\n",
       "      <td>1</td>\n",
       "      <td>1</td>\n",
       "      <td>1</td>\n",
       "    </tr>\n",
       "  </tbody>\n",
       "</table>\n",
       "</div>"
      ],
      "text/plain": [
       "   0  1  2\n",
       "0  0  3  0\n",
       "1  2  0  0\n",
       "2  0  1  3\n",
       "3  0  1  2\n",
       "4 -1  0  1\n",
       "5  1  1  1"
      ]
     },
     "execution_count": 6,
     "metadata": {},
     "output_type": "execute_result"
    }
   ],
   "source": [
    "import pandas as pd\n",
    "import numpy as np\n",
    "\n",
    "df = pd.DataFrame([[0,2,0,0,-1,1], [3,0,1,1,0,1], [0,0,3,2,1,1]]).T\n",
    "df"
   ]
  },
  {
   "cell_type": "code",
   "execution_count": 9,
   "metadata": {},
   "outputs": [
    {
     "data": {
      "text/plain": [
       "0    3.000000\n",
       "1    2.000000\n",
       "2    3.162278\n",
       "3    2.236068\n",
       "4    1.414214\n",
       "5    1.732051\n",
       "dtype: float64"
      ]
     },
     "execution_count": 9,
     "metadata": {},
     "output_type": "execute_result"
    }
   ],
   "source": [
    "# https://stackoverflow.com/a/46908540\n",
    "(df - np.array((0, 0, 0))).pow(2).sum(1).pow(0.5)"
   ]
  },
  {
   "cell_type": "markdown",
   "metadata": {},
   "source": [
    "With k=1 the prediction is Green because the observation 5 is the closest one and it is Green.\n",
    "\n",
    "With k=3 the prediction is Red because the observation 5, 6 and 2 are the closest ones and the majority is Red.\n",
    "\n",
    "If the Bayes decision boundary is highly non-linear a smaller value of k is expected as it has sharper edges because each observation is more significant."
   ]
  },
  {
   "cell_type": "markdown",
   "metadata": {},
   "source": [
    "8.  This exercise relates to the College data set, which can be found in the file College.csv . It contains a number of variables for 777 different universities and colleges in the US. The variables are\n",
    "  * Private : Public/private indicator\n",
    "  * Apps : Number of applications received\n",
    "  * Accept : Number of applicants accepted\n",
    "  * Enroll : Number of new students enrolled\n",
    "  * Top10perc : New students from top 10 % of high school class\n",
    "  * Top25perc : New students from top 25 % of high school class\n",
    "  * F.Undergrad : Number of full-time undergraduates\n",
    "  * P.Undergrad : Number of part-time undergraduates\n",
    "  * Outstate : Out-of-state tuition\n",
    "  * Room.Board : Room and board costs\n",
    "  * Books : Estimated book costs\n",
    "  * Personal : Estimated personal spending\n",
    "  * PhD : Percent of faculty with Ph.D.’s\n",
    "  * Terminal : Percent of faculty with terminal degree\n",
    "  * S.F.Ratio : Student/faculty ratio\n",
    "  * perc.alumni : Percent of alumni who donate\n",
    "  * Expend : Instructional expenditure per student\n",
    "  * Grad.Rate : Graduation rate\n",
    " \n",
    "  Before reading the data into R , it can be viewed in Excel or a text editor.\n",
    "\n",
    "  1. Use the summary() function to produce a numerical summary of the variables in the data set.\n",
    "  2. Use the pairs() function to produce a scatterplot matrix of the first ten columns or variables of the data. Recall that you can reference the first ten columns of a matrix A using `A[,1:10]`.\n",
    "  3. Use the plot() function to produce side-by-side boxplots of Outstate versus Private .\n",
    "  4. Create a new qualitative variable, called Elite , by binning the Top10perc variable. We are going to divide universities into two groups based on whether or not the proportion of students coming from the top 10 % of their high school classes exceeds 50 %. Use the summary() function to see how many elite universities there are. Now use the plot() function to produce side-by-side boxplots of Outstate versus Elite.\n",
    "  5. Use the hist() function to produce some histograms with differing numbers of bins for a few of the quantitative variables. You may find the command `par(mfrow=c(2,2))` useful: it will divide the print window into four regions so that four plots can be made simultaneously. Modifying the argumentsto this function will divide the screen in other ways.\n",
    "vi. Continue exploring the data, and provide a brief summaryof what you discover"
   ]
  }
 ],
 "metadata": {
  "kernelspec": {
   "display_name": "Python 3",
   "language": "python",
   "name": "python3"
  },
  "language_info": {
   "codemirror_mode": {
    "name": "ipython",
    "version": 3
   },
   "file_extension": ".py",
   "mimetype": "text/x-python",
   "name": "python",
   "nbconvert_exporter": "python",
   "pygments_lexer": "ipython3",
   "version": "3.5.2"
  }
 },
 "nbformat": 4,
 "nbformat_minor": 2
}
