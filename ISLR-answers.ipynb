{
 "cells": [
  {
   "cell_type": "markdown",
   "metadata": {},
   "source": [
    "# 2.4 Exercises\n",
    "## Conceptual\n",
    "1. For each of parts (a) through (d), indicate whether we would generally expect the performance of a flexible statistical learning method to be better or worse than an inflexible method. Justify your answer.\n",
    "  1. The sample size n is extremely large, and the number of predictors p is small.\n",
    "  2. The number of predictors p is extremely large, and the number of observations n is small.\n",
    "  3. The relationship between the predictors and response is highly non-linear.\n",
    "  4. The variance of the error terms, i.e. σ 2 = Var(\u0003), is extremely high."
   ]
  },
  {
   "cell_type": "markdown",
   "metadata": {},
   "source": [
    "1. Answers\n",
    "\n",
    "  1. A flexible model will allow us to take full advantage of our large sample size.\n",
    "    \n",
    "  1. The flexible model will cause overfitting due to our small sample size.\n",
    "\n",
    "  1. A flexible model will be necessary to find the nonlinear effect.\n",
    "  \n",
    "  1. A flexible model will cause us to fit too much of the noise in the problem."
   ]
  },
  {
   "cell_type": "markdown",
   "metadata": {},
   "source": [
    "2. Explain whether each scenario is a classification or regression problem, and indicate whether we are most interested in inference or prediction. Finally, provide n and p.\n",
    "  1. We collect a set of data on the top 500 firms in the US. For each firm we record profit, number of employees, industry and the CEO salary. We are interested in understanding which factors affect CEO salary.\n",
    "  1. We are considering launching a new product and wish to know whether it will be a success or a failure. We collect data on 20 similar products that were previously launched. For each product we have recorded whether it was a success or failure, price charged for the product, marketing budget, competition price, and ten other variables.\n",
    "  1. We are interested in predicting the % change in the USD/Euro exchange rate in relation to the weekly changes in the world stock markets. Hence we collect weekly data for all of 2012. For each week we record the % change in the USD/Euro, the % change in the US market, the % change in the British market, and the % change in the German market."
   ]
  },
  {
   "cell_type": "markdown",
   "metadata": {},
   "source": [
    "2. Answers\n",
    "\n",
    "  1. Regression. Inference. n=500 p=3\n",
    "  \n",
    "  1. Classification. Prediction. n=20 p=13\n",
    "  \n",
    "  1. Regression. Prediction. n=52 p=3"
   ]
  },
  {
   "cell_type": "markdown",
   "metadata": {},
   "source": [
    "4. You will now think of some real-life applications for statistical learning.\n",
    "\n",
    "  1. Describe three real-life applications in which classification might be useful. Describe the response, as well as the predictors. Is the goal of each application inference or prediction? Explain your answer.\n",
    "\n",
    "  1. Describe three real-life applications in which regression might be useful. Describe the response, as well as the predictors. Is the goal of each application inference or prediction? Explain your answer.\n",
    "\n",
    "  1. Describe three real-life applications in which cluster analysis might be useful."
   ]
  },
  {
   "cell_type": "markdown",
   "metadata": {},
   "source": [
    "4. Answers\n",
    "  1. \n",
    "    1. Taking a picture and classifying its content as cat or not cat. Predictors are the content of the image. It's a prediction application.\n",
    "    1. A company that sells online may wish to know if a purchase is fraud or not. Predictors may be previous user purchase history, credit card history, amount. It's prediction.\n",
    "    1. A bank may want to know which of their customers may want a loan. Predictors may be user balance, purchase history, income, age. It's prediction. They can also use inference to have better ad targeting.\n",
    "    \n",
    "  2. \n",
    "    1. Use a salary survey to understand which variables affect income more. Predictors may be age, experience, gender, position, degree. It's an inference application.\n",
    "    1. \n",
    "  \n",
    "  3. \n",
    "    1. A company may do customer clustering to find similar customers and recommend them products. Predictors may be products bought or added to wishlist, age, gender, location, income estimation, education. It's a prediction application.\n",
    "    1. "
   ]
  },
  {
   "cell_type": "markdown",
   "metadata": {},
   "source": [
    "5. What are the advantages and disadvantages of a very flexible (versus a less flexible) approach for regression or classification? Under what circumstances might a more flexible approach be preferred to a less flexible approach? When might a less flexible approach be preferred?"
   ]
  },
  {
   "cell_type": "markdown",
   "metadata": {},
   "source": [
    "A flexible approach can take advantage of a larger sample size, specially when the response is non-linear. It doesn't do so well with samples that are small, because it cannot find a proper pattern, or that have a high variance error as it will learn from the random error."
   ]
  }
 ],
 "metadata": {
  "kernelspec": {
   "display_name": "Python 3",
   "language": "python",
   "name": "python3"
  },
  "language_info": {
   "codemirror_mode": {
    "name": "ipython",
    "version": 3
   },
   "file_extension": ".py",
   "mimetype": "text/x-python",
   "name": "python",
   "nbconvert_exporter": "python",
   "pygments_lexer": "ipython3",
   "version": "3.5.2"
  }
 },
 "nbformat": 4,
 "nbformat_minor": 2
}
